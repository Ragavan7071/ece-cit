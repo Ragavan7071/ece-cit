{
  "nbformat": 4,
  "nbformat_minor": 0,
  "metadata": {
    "colab": {
      "name": "poetry_generation.ipynb",
      "provenance": [],
      "collapsed_sections": []
    },
    "kernelspec": {
      "name": "python3",
      "display_name": "Python 3"
    },
    "accelerator": "GPU"
  },
  "cells": [
    {
      "cell_type": "code",
      "metadata": {
        "id": "FwqkvTg5-op8",
        "colab_type": "code",
        "colab": {}
      },
      "source": [
        "import tensorflow as tf\n",
        "import numpy as np\n",
        "import os\n",
        "import time\n"
      ],
      "execution_count": null,
      "outputs": []
    },
    {
      "cell_type": "code",
      "metadata": {
        "id": "th61PirH_YTk",
        "colab_type": "code",
        "colab": {
          "base_uri": "https://localhost:8080/",
          "height": 34
        },
        "outputId": "50a5b570-21ac-4916-bcbc-c349225e0852"
      },
      "source": [
        "\n",
        "test='/content/drive/My Drive/test.txt'\n",
        "text1 = open(test,'rb').read().decode(encoding='cp1251')\n",
        "text=text1.replace(\"<eos>\",\"\\n\")\n",
        "print ('Length of text: {} characters'.format(len(text)))"
      ],
      "execution_count": null,
      "outputs": [
        {
          "output_type": "stream",
          "text": [
            "Length of text: 1944400 characters\n"
          ],
          "name": "stdout"
        }
      ]
    },
    {
      "cell_type": "code",
      "metadata": {
        "id": "Gjq0UnH5HwqK",
        "colab_type": "code",
        "colab": {
          "base_uri": "https://localhost:8080/",
          "height": 34
        },
        "outputId": "cfd2edcc-d0c3-4c45-baab-13cae56ed07e"
      },
      "source": [
        "vocab = sorted(set(text))\n",
        "print ('{} unique characters'.format(len(vocab)))"
      ],
      "execution_count": null,
      "outputs": [
        {
          "output_type": "stream",
          "text": [
            "62 unique characters\n"
          ],
          "name": "stdout"
        }
      ]
    },
    {
      "cell_type": "code",
      "metadata": {
        "id": "0YWjWv0UMArs",
        "colab_type": "code",
        "colab": {}
      },
      "source": [
        "# Creating a mapping from unique characters to indices\n",
        "char2idx = {u:i for i, u in enumerate(vocab)}\n",
        "idx2char = np.array(vocab)\n",
        "text_as_int = np.array([char2idx[c] for c in text])"
      ],
      "execution_count": null,
      "outputs": []
    },
    {
      "cell_type": "code",
      "metadata": {
        "id": "DYd2WoWlMj4V",
        "colab_type": "code",
        "colab": {
          "base_uri": "https://localhost:8080/",
          "height": 408
        },
        "outputId": "699fc321-ad90-4495-ed21-6289919ba41c"
      },
      "source": [
        "print('{')\n",
        "for char,_ in zip(char2idx, range(20)):\n",
        "    print('  {:4s}: {:3d},'.format(repr(char), char2idx[char]))\n",
        "print('  ...\\n}')"
      ],
      "execution_count": null,
      "outputs": [
        {
          "output_type": "stream",
          "text": [
            "{\n",
            "  '\\n':   0,\n",
            "  ' ' :   1,\n",
            "  '!' :   2,\n",
            "  '\"' :   3,\n",
            "  '$' :   4,\n",
            "  '%' :   5,\n",
            "  \"'\" :   6,\n",
            "  '(' :   7,\n",
            "  ')' :   8,\n",
            "  '*' :   9,\n",
            "  ',' :  10,\n",
            "  '.' :  11,\n",
            "  '0' :  12,\n",
            "  '1' :  13,\n",
            "  '2' :  14,\n",
            "  '3' :  15,\n",
            "  '4' :  16,\n",
            "  '5' :  17,\n",
            "  '6' :  18,\n",
            "  '7' :  19,\n",
            "  ...\n",
            "}\n"
          ],
          "name": "stdout"
        }
      ]
    },
    {
      "cell_type": "code",
      "metadata": {
        "id": "DbrYszFSMut5",
        "colab_type": "code",
        "colab": {
          "base_uri": "https://localhost:8080/",
          "height": 102
        },
        "outputId": "39644c97-1b37-43ea-d3d2-5cecc69a2acc"
      },
      "source": [
        "# The maximum length sentence we want for a single input in characters\n",
        "seq_length = 100\n",
        "examples_per_epoch = len(text)//(seq_length+1)\n",
        "# Create training examples / targets\n",
        "char_dataset = tf.data.Dataset.from_tensor_slices(text_as_int)\n",
        "for i in char_dataset.take(5):\n",
        "  print(idx2char[i.numpy()])"
      ],
      "execution_count": null,
      "outputs": [
        {
          "output_type": "stream",
          "text": [
            "w\n",
            "i\n",
            "t\n",
            "h\n",
            " \n"
          ],
          "name": "stdout"
        }
      ]
    },
    {
      "cell_type": "code",
      "metadata": {
        "id": "pWdcN84hM6dc",
        "colab_type": "code",
        "colab": {
          "base_uri": "https://localhost:8080/",
          "height": 102
        },
        "outputId": "a5b56ff1-487d-4ed8-b874-b74e3e34392e"
      },
      "source": [
        "sequences = char_dataset.batch(seq_length+1, drop_remainder=True)\n",
        "for item in sequences.take(5):\n",
        "  print(repr(''.join(idx2char[item.numpy()])))"
      ],
      "execution_count": null,
      "outputs": [
        {
          "output_type": "stream",
          "text": [
            "'with clytia he no longer was received \\n than while he was a man of wealth believed \\n balls , concerts'\n",
            "\" , op'ras , tournaments , and plays \\n expensive dresses , all engaging ways \\n were used to captivate \"\n",
            "'this lady fair \\n while scarcely one around but in despair \\n wife , widow , maid , his fond affection '\n",
            "\"sought \\n to gain him , ev'ry wily art was brought \\n but all in vain :пїЅ by passion overpow'red \\n the\"\n",
            "' belle , whose conduct others would have soured \\n to him appeared a goddess full of charms \\n superior'\n"
          ],
          "name": "stdout"
        }
      ]
    },
    {
      "cell_type": "code",
      "metadata": {
        "id": "oTSXC50UNCtJ",
        "colab_type": "code",
        "colab": {}
      },
      "source": [
        "def split_input_target(chunk):\n",
        "  input_text = chunk[:-1]\n",
        "  target_text = chunk[1:]\n",
        "  return input_text, target_text\n",
        "dataset = sequences.map(split_input_target)"
      ],
      "execution_count": null,
      "outputs": []
    },
    {
      "cell_type": "code",
      "metadata": {
        "id": "AHOgmxR_NHgB",
        "colab_type": "code",
        "colab": {
          "base_uri": "https://localhost:8080/",
          "height": 51
        },
        "outputId": "817429f7-b0d5-40a7-c512-23efdf1ad871"
      },
      "source": [
        "for input_example, target_example in  dataset.take(1):\n",
        "  print ('Input data: ', repr(''.join(idx2char[input_example.numpy()])))\n",
        "  print ('Target data:', repr(''.join(idx2char[target_example.numpy()])))"
      ],
      "execution_count": null,
      "outputs": [
        {
          "output_type": "stream",
          "text": [
            "Input data:  'with clytia he no longer was received \\n than while he was a man of wealth believed \\n balls , concert'\n",
            "Target data: 'ith clytia he no longer was received \\n than while he was a man of wealth believed \\n balls , concerts'\n"
          ],
          "name": "stdout"
        }
      ]
    },
    {
      "cell_type": "code",
      "metadata": {
        "id": "OLfO4y1YNMAc",
        "colab_type": "code",
        "colab": {
          "base_uri": "https://localhost:8080/",
          "height": 272
        },
        "outputId": "02bfa321-bdc0-471a-c10f-fbb7a40fdacc"
      },
      "source": [
        "for i, (input_idx, target_idx) in enumerate(zip(input_example[:5], target_example[:5])):\n",
        "  print(\"Step {:4d}\".format(i))\n",
        "  print(\"  input: {} ({:s})\".format(input_idx, repr(idx2char[input_idx])))\n",
        "  print(\"  expected output: {} ({:s})\".format(target_idx, repr(idx2char[target_idx])))"
      ],
      "execution_count": null,
      "outputs": [
        {
          "output_type": "stream",
          "text": [
            "Step    0\n",
            "  input: 53 ('w')\n",
            "  expected output: 39 ('i')\n",
            "Step    1\n",
            "  input: 39 ('i')\n",
            "  expected output: 50 ('t')\n",
            "Step    2\n",
            "  input: 50 ('t')\n",
            "  expected output: 38 ('h')\n",
            "Step    3\n",
            "  input: 38 ('h')\n",
            "  expected output: 1 (' ')\n",
            "Step    4\n",
            "  input: 1 (' ')\n",
            "  expected output: 33 ('c')\n"
          ],
          "name": "stdout"
        }
      ]
    },
    {
      "cell_type": "code",
      "metadata": {
        "id": "MYxxADPINPWB",
        "colab_type": "code",
        "colab": {
          "base_uri": "https://localhost:8080/",
          "height": 34
        },
        "outputId": "09364ec0-a755-4910-807a-7eeb91c08b4c"
      },
      "source": [
        "BATCH_SIZE = 64\n",
        "BUFFER_SIZE = 10000\n",
        "dataset = dataset.shuffle(BUFFER_SIZE).batch(BATCH_SIZE, drop_remainder=True)\n",
        "dataset"
      ],
      "execution_count": null,
      "outputs": [
        {
          "output_type": "execute_result",
          "data": {
            "text/plain": [
              "<BatchDataset shapes: ((64, 100), (64, 100)), types: (tf.int64, tf.int64)>"
            ]
          },
          "metadata": {
            "tags": []
          },
          "execution_count": 11
        }
      ]
    },
    {
      "cell_type": "code",
      "metadata": {
        "id": "S6hPA3a3NfKX",
        "colab_type": "code",
        "colab": {}
      },
      "source": [
        "# Length of the vocabulary in chars\n",
        "vocab_size = len(vocab)\n",
        "# The embedding dimension\n",
        "embedding_dim = 256\n",
        "# Number of RNN units\n",
        "rnn_units = 1024"
      ],
      "execution_count": null,
      "outputs": []
    },
    {
      "cell_type": "code",
      "metadata": {
        "id": "lr55VkzWNiac",
        "colab_type": "code",
        "colab": {}
      },
      "source": [
        "def build_model(vocab_size, embedding_dim, rnn_units, batch_size):\n",
        "  model = tf.keras.Sequential([\n",
        "    tf.keras.layers.Embedding(vocab_size, embedding_dim,\n",
        "                              batch_input_shape=[batch_size, None]),\n",
        "    tf.keras.layers.GRU(rnn_units,\n",
        "                        return_sequences=True,\n",
        "                        stateful=True,\n",
        "                        recurrent_initializer='glorot_uniform'),\n",
        "    tf.keras.layers.Dense(vocab_size)\n",
        "  ])\n",
        "  return model"
      ],
      "execution_count": null,
      "outputs": []
    },
    {
      "cell_type": "code",
      "metadata": {
        "id": "fMYah80QNjfC",
        "colab_type": "code",
        "colab": {}
      },
      "source": [
        "model = build_model(\n",
        "    vocab_size = len(vocab),\n",
        "    embedding_dim=embedding_dim,\n",
        "    rnn_units=rnn_units,\n",
        "    batch_size=BATCH_SIZE)"
      ],
      "execution_count": null,
      "outputs": []
    },
    {
      "cell_type": "code",
      "metadata": {
        "id": "uw6t9mwLNoVI",
        "colab_type": "code",
        "colab": {
          "base_uri": "https://localhost:8080/",
          "height": 34
        },
        "outputId": "03ab536f-f279-45d7-ffa9-77f96107e9b5"
      },
      "source": [
        "for input_example_batch, target_example_batch in dataset.take(1):\n",
        "  example_batch_predictions = model(input_example_batch)\n",
        "  print(example_batch_predictions.shape)"
      ],
      "execution_count": null,
      "outputs": [
        {
          "output_type": "stream",
          "text": [
            "(64, 100, 62)\n"
          ],
          "name": "stdout"
        }
      ]
    },
    {
      "cell_type": "code",
      "metadata": {
        "id": "AyY-nUljNsbB",
        "colab_type": "code",
        "colab": {
          "base_uri": "https://localhost:8080/",
          "height": 255
        },
        "outputId": "1b4917ef-b424-45a5-d4ae-0f720ddaaffb"
      },
      "source": [
        "model.summary()"
      ],
      "execution_count": null,
      "outputs": [
        {
          "output_type": "stream",
          "text": [
            "Model: \"sequential\"\n",
            "_________________________________________________________________\n",
            "Layer (type)                 Output Shape              Param #   \n",
            "=================================================================\n",
            "embedding (Embedding)        (64, None, 256)           15872     \n",
            "_________________________________________________________________\n",
            "gru (GRU)                    (64, None, 1024)          3938304   \n",
            "_________________________________________________________________\n",
            "dense (Dense)                (64, None, 62)            63550     \n",
            "=================================================================\n",
            "Total params: 4,017,726\n",
            "Trainable params: 4,017,726\n",
            "Non-trainable params: 0\n",
            "_________________________________________________________________\n"
          ],
          "name": "stdout"
        }
      ]
    },
    {
      "cell_type": "code",
      "metadata": {
        "id": "H5XKZg07NvGA",
        "colab_type": "code",
        "colab": {}
      },
      "source": [
        "sampled_indices = tf.random.categorical(example_batch_predictions[0], num_samples=1)\n",
        "sampled_indices = tf.squeeze(sampled_indices,axis=-1).numpy()"
      ],
      "execution_count": null,
      "outputs": []
    },
    {
      "cell_type": "code",
      "metadata": {
        "id": "0fncIUZTNycT",
        "colab_type": "code",
        "colab": {
          "base_uri": "https://localhost:8080/",
          "height": 119
        },
        "outputId": "4f7741b5-bc7e-4011-dd57-503116633fa0"
      },
      "source": [
        "sampled_indices"
      ],
      "execution_count": null,
      "outputs": [
        {
          "output_type": "execute_result",
          "data": {
            "text/plain": [
              "array([ 5, 53,  3,  6, 32, 16, 10, 24,  9,  0,  9, 27, 57, 51, 38, 11, 59,\n",
              "       16,  0, 16, 13, 34, 43, 56, 27, 50,  4, 37, 18, 11, 61, 49, 30, 23,\n",
              "       35, 33, 17, 42, 11, 41, 54, 53,  5, 14, 46, 49, 30, 15, 47, 27, 55,\n",
              "        8, 18, 38, 44,  5, 19, 23, 27, 23, 27, 18,  0, 14, 14,  6, 12, 19,\n",
              "       45,  4, 19, 50, 60, 23, 55, 57, 42, 54,  0,  3, 34, 39, 34, 38, 15,\n",
              "       57, 19, 11,  0, 42, 41, 26, 51, 44, 17, 20, 41, 53,  8, 58])"
            ]
          },
          "metadata": {
            "tags": []
          },
          "execution_count": 18
        }
      ]
    },
    {
      "cell_type": "code",
      "metadata": {
        "id": "I6rG7xkHN1If",
        "colab_type": "code",
        "colab": {
          "base_uri": "https://localhost:8080/",
          "height": 85
        },
        "outputId": "56755b21-a02b-4a63-d87e-6a4284fe3fc2"
      },
      "source": [
        "print(\"Input:\", repr(\"\".join(idx2char[input_example_batch[0]])))\n",
        "print()\n",
        "print(\"Next Char Predictions: \\n\", repr(\"\".join(idx2char[sampled_indices ])))"
      ],
      "execution_count": null,
      "outputs": [
        {
          "output_type": "stream",
          "text": [
            "Input: \" 'd , nor won by love \\n ambition was her crime ; but meaner folly \\n dooms me to loathe , at once , a\"\n",
            "\n",
            "Next Char Predictions: \n",
            " '%w\"\\'b4,<*\\n*@{uh.Ѕ4\\n41dmz@t$g6.їs`;ec5l.kxw%2ps`3q@y)6hn%7;@;@6\\n22\\'07o$7tп;y{lx\\n\"didh3{7.\\nlk?un58kw)}'\n"
          ],
          "name": "stdout"
        }
      ]
    },
    {
      "cell_type": "code",
      "metadata": {
        "id": "nxjI_1vSPVqL",
        "colab_type": "code",
        "colab": {
          "base_uri": "https://localhost:8080/",
          "height": 51
        },
        "outputId": "80ad4ed6-18eb-4bb9-a5c6-06aa8e9ff23b"
      },
      "source": [
        "def loss(labels, logits):\n",
        "  return tf.keras.losses.sparse_categorical_crossentropy(labels, logits, from_logits=True)\n",
        "\n",
        "example_batch_loss  = loss(target_example_batch, example_batch_predictions)\n",
        "print(\"Prediction shape: \", example_batch_predictions.shape)\n",
        "print(\"scalar_loss:      \", example_batch_loss.numpy().mean())"
      ],
      "execution_count": null,
      "outputs": [
        {
          "output_type": "stream",
          "text": [
            "Prediction shape:  (64, 100, 62)\n",
            "scalar_loss:       4.1258225\n"
          ],
          "name": "stdout"
        }
      ]
    },
    {
      "cell_type": "code",
      "metadata": {
        "id": "wlyzClyEPdPl",
        "colab_type": "code",
        "colab": {}
      },
      "source": [
        "model.compile(optimizer='adam', loss=loss)"
      ],
      "execution_count": null,
      "outputs": []
    },
    {
      "cell_type": "code",
      "metadata": {
        "id": "brzMwFhnPgHa",
        "colab_type": "code",
        "colab": {}
      },
      "source": [
        "checkpoint_dir = './training_checkpoints'\n",
        "checkpoint_prefix = os.path.join(checkpoint_dir, \"ckpt_{epoch}\")\n",
        "checkpoint_callback=tf.keras.callbacks.ModelCheckpoint(\n",
        "    filepath=checkpoint_prefix,\n",
        "    save_weights_only=True)"
      ],
      "execution_count": null,
      "outputs": []
    },
    {
      "cell_type": "code",
      "metadata": {
        "id": "kbtU1zr6QzOr",
        "colab_type": "code",
        "colab": {
          "base_uri": "https://localhost:8080/",
          "height": 119
        },
        "outputId": "19f4fdb4-f2f7-4812-fce0-86415aec471f"
      },
      "source": [
        "history = model.fit(dataset, epochs=3, callbacks=[checkpoint_callback])"
      ],
      "execution_count": null,
      "outputs": [
        {
          "output_type": "stream",
          "text": [
            "Epoch 1/3\n",
            "300/300 [==============================] - 14s 46ms/step - loss: 2.2333\n",
            "Epoch 2/3\n",
            "300/300 [==============================] - 14s 46ms/step - loss: 1.6751\n",
            "Epoch 3/3\n",
            "300/300 [==============================] - 14s 46ms/step - loss: 1.5127\n"
          ],
          "name": "stdout"
        }
      ]
    },
    {
      "cell_type": "code",
      "metadata": {
        "id": "hYVaydVfWkcD",
        "colab_type": "code",
        "colab": {
          "base_uri": "https://localhost:8080/",
          "height": 35
        },
        "outputId": "23a52f69-e811-4421-e3bb-d7551a8dec5f"
      },
      "source": [
        "tf.train.latest_checkpoint(checkpoint_dir)"
      ],
      "execution_count": null,
      "outputs": [
        {
          "output_type": "execute_result",
          "data": {
            "application/vnd.google.colaboratory.intrinsic+json": {
              "type": "string"
            },
            "text/plain": [
              "'./training_checkpoints/ckpt_3'"
            ]
          },
          "metadata": {
            "tags": []
          },
          "execution_count": 24
        }
      ]
    },
    {
      "cell_type": "code",
      "metadata": {
        "id": "mLuglL3eWltF",
        "colab_type": "code",
        "colab": {}
      },
      "source": [
        "model = build_model(vocab_size, embedding_dim, rnn_units, batch_size=1)\n",
        "\n",
        "model.load_weights(tf.train.latest_checkpoint(checkpoint_dir))\n",
        "\n",
        "model.build(tf.TensorShape([1, None]))"
      ],
      "execution_count": null,
      "outputs": []
    },
    {
      "cell_type": "code",
      "metadata": {
        "id": "2MBDvAlmWo5F",
        "colab_type": "code",
        "colab": {
          "base_uri": "https://localhost:8080/",
          "height": 255
        },
        "outputId": "4f8e94f8-e5f4-48ac-ea50-b55d48e72b24"
      },
      "source": [
        "model.summary()"
      ],
      "execution_count": null,
      "outputs": [
        {
          "output_type": "stream",
          "text": [
            "Model: \"sequential_1\"\n",
            "_________________________________________________________________\n",
            "Layer (type)                 Output Shape              Param #   \n",
            "=================================================================\n",
            "embedding_1 (Embedding)      (1, None, 256)            15872     \n",
            "_________________________________________________________________\n",
            "gru_1 (GRU)                  (1, None, 1024)           3938304   \n",
            "_________________________________________________________________\n",
            "dense_1 (Dense)              (1, None, 62)             63550     \n",
            "=================================================================\n",
            "Total params: 4,017,726\n",
            "Trainable params: 4,017,726\n",
            "Non-trainable params: 0\n",
            "_________________________________________________________________\n"
          ],
          "name": "stdout"
        }
      ]
    },
    {
      "cell_type": "code",
      "metadata": {
        "id": "o2MI0n_FWsME",
        "colab_type": "code",
        "colab": {}
      },
      "source": [
        "def generate_text(model, start_string):\n",
        "  # Evaluation step (generating text using the learned model)\n",
        "\n",
        "  # Number of characters to generate\n",
        "  num_generate = 630\n",
        "  input_eval = [char2idx[s] for s in start_string]\n",
        "  input_eval = tf.expand_dims(input_eval, 0)\n",
        "\n",
        "  text_generated = []\n",
        "\n",
        "  temperature = 1.2\n",
        "\n",
        "  model.reset_states()\n",
        "  for i in range(num_generate):\n",
        "    # using a categorical distribution to predict the character returned by the model\n",
        "    predictions = model(input_eval)\n",
        "    predictions = tf.squeeze(predictions, 0)\n",
        "\n",
        "    predictions = predictions / temperature\n",
        "    predicted_id = tf.random.categorical(predictions, num_samples=1)[-1,0].numpy()\n",
        "\n",
        "    input_eval = tf.expand_dims([predicted_id], 0)\n",
        "\n",
        "    text_generated.append(idx2char[predicted_id])\n",
        "\n",
        "  return (start_string + ''.join(text_generated))"
      ],
      "execution_count": null,
      "outputs": []
    },
    {
      "cell_type": "code",
      "metadata": {
        "id": "ux7KGX72wAPa",
        "colab_type": "code",
        "colab": {
          "base_uri": "https://localhost:8080/",
          "height": 255
        },
        "outputId": "d677601d-8b8a-487a-8e54-443e598a9ef4"
      },
      "source": [
        "slash=input(\"Enter the starting string:\")\n",
        "slash=slash.lower()\n",
        "print(\"\\n The poem is:\\n\")\n",
        "print(generate_text(model, start_string=slash))"
      ],
      "execution_count": null,
      "outputs": [
        {
          "output_type": "stream",
          "text": [
            "Enter the starting string:hai\n",
            "\n",
            " The poem is:\n",
            "\n",
            "haint , and clands words fiam keep it thyself to sound how thoughts heaves with grace as that men \n",
            " well i sea and dabgling father blows on пїЅ oceaning phanis aribet \n",
            " round to boend the rivh op was thing 's greenige \n",
            " like paints most rold 's shepry , follow mure \n",
            " and fight his elter offend oke to goiling aisse \n",
            " twice heart drops mother dray hee for me upon the monemon prins that does \n",
            " my love woman dead mades upon that sleep 'd is noty ) пїЅ ex , as sicky ve grows are incladed \n",
            " beeat havusely nono turn \n",
            " her speased than her scagels of tasencess blodded and rew \n",
            " and mighty sted cropn the daysoe sace , winedlas aps od \n"
          ],
          "name": "stdout"
        }
      ]
    },
    {
      "cell_type": "code",
      "metadata": {
        "id": "Qm0_sV_4aZWP",
        "colab_type": "code",
        "colab": {}
      },
      "source": [
        "#secondary API interfacing\n",
        "#code to access telegram \n",
        "\n",
        "import json \n",
        "import requests\n",
        "#here token refers to your bot API token\n",
        "TOKEN = \"1225137884:AAH_8CYyi4RP_tiNf9pKSpbZjy9qAAJRqzE\"\n",
        "URL = \"https://api.telegram.org/bot{}/\".format(TOKEN)\n",
        "\n",
        "\n",
        "def get_url(url):\n",
        "    response = requests.get(url)\n",
        "    content = response.content.decode(\"utf8\")\n",
        "    return content\n",
        "\n",
        "\n",
        "def get_json_from_url(url):\n",
        "    content = get_url(url)\n",
        "    js = json.loads(content)\n",
        "    return js\n",
        "\n",
        "\n",
        "def get_updates():\n",
        "    url = URL + \"getUpdates\"\n",
        "    js = get_json_from_url(url)\n",
        "    return js\n",
        "\n",
        "\n",
        "def get_last_chat_id_and_text(updates):\n",
        "    num_updates = len(updates[\"result\"])\n",
        "    last_update = num_updates - 1\n",
        "    text = updates[\"result\"][last_update][\"message\"][\"text\"]\n",
        "    chat_id = updates[\"result\"][last_update][\"message\"][\"chat\"][\"id\"]\n",
        "    return (text, chat_id)\n",
        "\n",
        "\n",
        "def send_message(text, chat_id):\n",
        "    url = URL + \"sendMessage?text={}&chat_id={}\".format(text, chat_id)\n",
        "    get_url(url)\n",
        "   \n"
      ],
      "execution_count": null,
      "outputs": []
    },
    {
      "cell_type": "code",
      "metadata": {
        "id": "T5O0-Y7nl1rN",
        "colab_type": "code",
        "colab": {
          "base_uri": "https://localhost:8080/",
          "height": 323
        },
        "outputId": "1815f28a-180a-4150-cdc8-6b85979059db"
      },
      "source": [
        "text,chat=get_last_chat_id_and_text(get_updates())\n",
        "(text,'r')\n",
        "text.replace('/','')\n",
        "text=text.lower()\n",
        "print('the poem for the given string is:\\n')\n",
        "out=generate_text(model,start_string=text)\n",
        "print(out)\n",
        "send_message(out,chat)"
      ],
      "execution_count": null,
      "outputs": [
        {
          "output_type": "stream",
          "text": [
            "the poem for the given string is:\n",
            "\n",
            "awesome black \n",
            " someword would weyth , there wonter , spredded enterth an easerol lamos in equ'st \n",
            " what 's hot equal zenuous and my sireless prime \n",
            " with neither пїЅ never by ravingus ( as him shed beneath to see \n",
            " recants shoutm wave to love through thee lofty dants \n",
            "\n",
            "if fruitopsma that of from charted hid his heart \n",
            " ye marlit fillet ;пїЅ alace me love sung i fed is no arguaf пїЅ stifffixned \n",
            " ad mock hud disdradres soldret my ratherate \n",
            " sie , when he doast doomed \n",
            " anotherm , cold of your never down \n",
            "\n",
            "shoked the dears led heart done hands \n",
            "\n",
            "his eeeter 's briden all unto trmass ! lupes a mesi man reas 'd \n",
            " but that she longes\n"
          ],
          "name": "stdout"
        }
      ]
    }
  ]
}